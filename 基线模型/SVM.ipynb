{
 "cells": [
  {
   "cell_type": "markdown",
   "id": "086316c1",
   "metadata": {},
   "source": [
    "# Data Loader"
   ]
  },
  {
   "cell_type": "code",
   "execution_count": 1,
   "id": "13752f24",
   "metadata": {},
   "outputs": [],
   "source": [
    "import codecs\n",
    "from os import path\n",
    "import pandas as pd\n",
    "import pdb\n",
    "import logging\n",
    "import re"
   ]
  },
  {
   "cell_type": "code",
   "execution_count": 2,
   "id": "5daba5f0",
   "metadata": {},
   "outputs": [],
   "source": [
    "from gensim import parsing\n",
    "import gensim\n",
    "from gensim.parsing.porter import PorterStemmer\n",
    "from sklearn.feature_extraction.text import CountVectorizer"
   ]
  },
  {
   "cell_type": "code",
   "execution_count": 3,
   "id": "2ede49dd",
   "metadata": {},
   "outputs": [],
   "source": [
    "import nltk\n",
    "from nltk.corpus import stopwords\n",
    "from sklearn.model_selection import train_test_split"
   ]
  },
  {
   "cell_type": "code",
   "execution_count": 58,
   "id": "6520ffb9",
   "metadata": {},
   "outputs": [],
   "source": [
    "from sklearn.feature_extraction.text import TfidfVectorizer\n",
    "import numpy as np\n",
    "from sklearn.metrics import classification_report"
   ]
  },
  {
   "cell_type": "code",
   "execution_count": 5,
   "id": "8a76830a",
   "metadata": {},
   "outputs": [],
   "source": [
    "training_file = path.join('semeval2016-task6-trainingdata.txt')\n",
    "training_data = pd.read_csv(training_file, header=0, delimiter='\\t')"
   ]
  },
  {
   "cell_type": "code",
   "execution_count": 6,
   "id": "3d649e66",
   "metadata": {},
   "outputs": [
    {
     "data": {
      "text/html": [
       "<div>\n",
       "<style scoped>\n",
       "    .dataframe tbody tr th:only-of-type {\n",
       "        vertical-align: middle;\n",
       "    }\n",
       "\n",
       "    .dataframe tbody tr th {\n",
       "        vertical-align: top;\n",
       "    }\n",
       "\n",
       "    .dataframe thead th {\n",
       "        text-align: right;\n",
       "    }\n",
       "</style>\n",
       "<table border=\"1\" class=\"dataframe\">\n",
       "  <thead>\n",
       "    <tr style=\"text-align: right;\">\n",
       "      <th></th>\n",
       "      <th>ID</th>\n",
       "      <th>Target</th>\n",
       "      <th>Tweet</th>\n",
       "      <th>Stance</th>\n",
       "    </tr>\n",
       "  </thead>\n",
       "  <tbody>\n",
       "    <tr>\n",
       "      <th>0</th>\n",
       "      <td>101</td>\n",
       "      <td>Atheism</td>\n",
       "      <td>dear lord thank u for all of ur blessings forg...</td>\n",
       "      <td>AGAINST</td>\n",
       "    </tr>\n",
       "    <tr>\n",
       "      <th>1</th>\n",
       "      <td>102</td>\n",
       "      <td>Atheism</td>\n",
       "      <td>Blessed are the peacemakers, for they shall be...</td>\n",
       "      <td>AGAINST</td>\n",
       "    </tr>\n",
       "    <tr>\n",
       "      <th>2</th>\n",
       "      <td>103</td>\n",
       "      <td>Atheism</td>\n",
       "      <td>I am not conformed to this world. I am transfo...</td>\n",
       "      <td>AGAINST</td>\n",
       "    </tr>\n",
       "    <tr>\n",
       "      <th>3</th>\n",
       "      <td>104</td>\n",
       "      <td>Atheism</td>\n",
       "      <td>Salah should be prayed with #focus and #unders...</td>\n",
       "      <td>AGAINST</td>\n",
       "    </tr>\n",
       "    <tr>\n",
       "      <th>4</th>\n",
       "      <td>105</td>\n",
       "      <td>Atheism</td>\n",
       "      <td>And stay in your houses and do not display you...</td>\n",
       "      <td>AGAINST</td>\n",
       "    </tr>\n",
       "    <tr>\n",
       "      <th>...</th>\n",
       "      <td>...</td>\n",
       "      <td>...</td>\n",
       "      <td>...</td>\n",
       "      <td>...</td>\n",
       "    </tr>\n",
       "    <tr>\n",
       "      <th>2809</th>\n",
       "      <td>2910</td>\n",
       "      <td>Legalization of Abortion</td>\n",
       "      <td>There's a law protecting unborn eagles, but no...</td>\n",
       "      <td>AGAINST</td>\n",
       "    </tr>\n",
       "    <tr>\n",
       "      <th>2810</th>\n",
       "      <td>2911</td>\n",
       "      <td>Legalization of Abortion</td>\n",
       "      <td>I am 1 in 3... I have had an abortion #Abortio...</td>\n",
       "      <td>AGAINST</td>\n",
       "    </tr>\n",
       "    <tr>\n",
       "      <th>2811</th>\n",
       "      <td>2912</td>\n",
       "      <td>Legalization of Abortion</td>\n",
       "      <td>How dare you say my sexual preference is a cho...</td>\n",
       "      <td>AGAINST</td>\n",
       "    </tr>\n",
       "    <tr>\n",
       "      <th>2812</th>\n",
       "      <td>2913</td>\n",
       "      <td>Legalization of Abortion</td>\n",
       "      <td>Equal rights for those 'born that way', no rig...</td>\n",
       "      <td>AGAINST</td>\n",
       "    </tr>\n",
       "    <tr>\n",
       "      <th>2813</th>\n",
       "      <td>2914</td>\n",
       "      <td>Legalization of Abortion</td>\n",
       "      <td>#POTUS seals his legacy w/ 1/2 doz wins. The #...</td>\n",
       "      <td>AGAINST</td>\n",
       "    </tr>\n",
       "  </tbody>\n",
       "</table>\n",
       "<p>2814 rows × 4 columns</p>\n",
       "</div>"
      ],
      "text/plain": [
       "        ID                    Target  \\\n",
       "0      101                   Atheism   \n",
       "1      102                   Atheism   \n",
       "2      103                   Atheism   \n",
       "3      104                   Atheism   \n",
       "4      105                   Atheism   \n",
       "...    ...                       ...   \n",
       "2809  2910  Legalization of Abortion   \n",
       "2810  2911  Legalization of Abortion   \n",
       "2811  2912  Legalization of Abortion   \n",
       "2812  2913  Legalization of Abortion   \n",
       "2813  2914  Legalization of Abortion   \n",
       "\n",
       "                                                  Tweet   Stance  \n",
       "0     dear lord thank u for all of ur blessings forg...  AGAINST  \n",
       "1     Blessed are the peacemakers, for they shall be...  AGAINST  \n",
       "2     I am not conformed to this world. I am transfo...  AGAINST  \n",
       "3     Salah should be prayed with #focus and #unders...  AGAINST  \n",
       "4     And stay in your houses and do not display you...  AGAINST  \n",
       "...                                                 ...      ...  \n",
       "2809  There's a law protecting unborn eagles, but no...  AGAINST  \n",
       "2810  I am 1 in 3... I have had an abortion #Abortio...  AGAINST  \n",
       "2811  How dare you say my sexual preference is a cho...  AGAINST  \n",
       "2812  Equal rights for those 'born that way', no rig...  AGAINST  \n",
       "2813  #POTUS seals his legacy w/ 1/2 doz wins. The #...  AGAINST  \n",
       "\n",
       "[2814 rows x 4 columns]"
      ]
     },
     "execution_count": 6,
     "metadata": {},
     "output_type": "execute_result"
    }
   ],
   "source": [
    "training_data"
   ]
  },
  {
   "cell_type": "markdown",
   "id": "ed0012c3",
   "metadata": {},
   "source": [
    "# Preprocessing"
   ]
  },
  {
   "cell_type": "code",
   "execution_count": 7,
   "id": "a5cc637c",
   "metadata": {},
   "outputs": [],
   "source": [
    "def preprocess(text):\n",
    "    #convert text to lower case\n",
    "    text = text.lower()\n",
    "   \n",
    "    #removing whitespace\n",
    "    text.strip()\n",
    "   \n",
    "    #removing digits\n",
    "    text = gensim.parsing.preprocessing.strip_numeric(text)\n",
    "    #text = ' '.join(s for s in text.split() if not any(c.isdigit() for c in s))\n",
    "    \n",
    "    #remove stopwords\n",
    "    text = gensim.parsing.preprocessing.remove_stopwords(text)\n",
    "    \n",
    "    #strip punctutation\n",
    "    text = gensim.parsing.preprocessing.strip_punctuation(text)\n",
    "    \n",
    "    #strip multiple whitepsace that might occur after we remove stopwords\n",
    "    text = gensim.parsing.preprocessing.strip_multiple_whitespaces(text)\n",
    "\n",
    "    p = PorterStemmer()\n",
    "    \n",
    "    text = ' '.join(p.stem(word) for word in text.split())    \n",
    "\n",
    "    #print(text)\n",
    "    \n",
    "    return text"
   ]
  },
  {
   "cell_type": "code",
   "execution_count": 8,
   "id": "0242a4b7",
   "metadata": {},
   "outputs": [],
   "source": [
    "training_data['Tweet'] = training_data['Tweet'].map(preprocess)"
   ]
  },
  {
   "cell_type": "code",
   "execution_count": 9,
   "id": "cb760187",
   "metadata": {},
   "outputs": [
    {
     "data": {
      "text/html": [
       "<div>\n",
       "<style scoped>\n",
       "    .dataframe tbody tr th:only-of-type {\n",
       "        vertical-align: middle;\n",
       "    }\n",
       "\n",
       "    .dataframe tbody tr th {\n",
       "        vertical-align: top;\n",
       "    }\n",
       "\n",
       "    .dataframe thead th {\n",
       "        text-align: right;\n",
       "    }\n",
       "</style>\n",
       "<table border=\"1\" class=\"dataframe\">\n",
       "  <thead>\n",
       "    <tr style=\"text-align: right;\">\n",
       "      <th></th>\n",
       "      <th>ID</th>\n",
       "      <th>Target</th>\n",
       "      <th>Tweet</th>\n",
       "      <th>Stance</th>\n",
       "    </tr>\n",
       "  </thead>\n",
       "  <tbody>\n",
       "    <tr>\n",
       "      <th>0</th>\n",
       "      <td>101</td>\n",
       "      <td>Atheism</td>\n",
       "      <td>dear lord thank u ur bless forgiv sin lord str...</td>\n",
       "      <td>AGAINST</td>\n",
       "    </tr>\n",
       "    <tr>\n",
       "      <th>1</th>\n",
       "      <td>102</td>\n",
       "      <td>Atheism</td>\n",
       "      <td>bless peacemak shall call children god matthew...</td>\n",
       "      <td>AGAINST</td>\n",
       "    </tr>\n",
       "    <tr>\n",
       "      <th>2</th>\n",
       "      <td>103</td>\n",
       "      <td>Atheism</td>\n",
       "      <td>conform world transform renew mind ispeaklif g...</td>\n",
       "      <td>AGAINST</td>\n",
       "    </tr>\n",
       "    <tr>\n",
       "      <th>3</th>\n",
       "      <td>104</td>\n",
       "      <td>Atheism</td>\n",
       "      <td>salah prai focu understand allah warn lazi pra...</td>\n",
       "      <td>AGAINST</td>\n",
       "    </tr>\n",
       "    <tr>\n",
       "      <th>4</th>\n",
       "      <td>105</td>\n",
       "      <td>Atheism</td>\n",
       "      <td>stai hous displai like time ignor quran islam ...</td>\n",
       "      <td>AGAINST</td>\n",
       "    </tr>\n",
       "    <tr>\n",
       "      <th>...</th>\n",
       "      <td>...</td>\n",
       "      <td>...</td>\n",
       "      <td>...</td>\n",
       "      <td>...</td>\n",
       "    </tr>\n",
       "    <tr>\n",
       "      <th>2809</th>\n",
       "      <td>2910</td>\n",
       "      <td>Legalization of Abortion</td>\n",
       "      <td>there s law protect unborn eagl human uh idk y...</td>\n",
       "      <td>AGAINST</td>\n",
       "    </tr>\n",
       "    <tr>\n",
       "      <th>2810</th>\n",
       "      <td>2911</td>\n",
       "      <td>Legalization of Abortion</td>\n",
       "      <td>abort abortionondemand menstruationmatt semst</td>\n",
       "      <td>AGAINST</td>\n",
       "    </tr>\n",
       "    <tr>\n",
       "      <th>2811</th>\n",
       "      <td>2912</td>\n",
       "      <td>Legalization of Abortion</td>\n",
       "      <td>dare sexual prefer choic dare dismemb preborn ...</td>\n",
       "      <td>AGAINST</td>\n",
       "    </tr>\n",
       "    <tr>\n",
       "      <th>2812</th>\n",
       "      <td>2913</td>\n",
       "      <td>Legalization of Abortion</td>\n",
       "      <td>equal right born wai right born liberallog lib...</td>\n",
       "      <td>AGAINST</td>\n",
       "    </tr>\n",
       "    <tr>\n",
       "      <th>2813</th>\n",
       "      <td>2914</td>\n",
       "      <td>Legalization of Abortion</td>\n",
       "      <td>potu seal legaci w doz win gop agenda still re...</td>\n",
       "      <td>AGAINST</td>\n",
       "    </tr>\n",
       "  </tbody>\n",
       "</table>\n",
       "<p>2814 rows × 4 columns</p>\n",
       "</div>"
      ],
      "text/plain": [
       "        ID                    Target  \\\n",
       "0      101                   Atheism   \n",
       "1      102                   Atheism   \n",
       "2      103                   Atheism   \n",
       "3      104                   Atheism   \n",
       "4      105                   Atheism   \n",
       "...    ...                       ...   \n",
       "2809  2910  Legalization of Abortion   \n",
       "2810  2911  Legalization of Abortion   \n",
       "2811  2912  Legalization of Abortion   \n",
       "2812  2913  Legalization of Abortion   \n",
       "2813  2914  Legalization of Abortion   \n",
       "\n",
       "                                                  Tweet   Stance  \n",
       "0     dear lord thank u ur bless forgiv sin lord str...  AGAINST  \n",
       "1     bless peacemak shall call children god matthew...  AGAINST  \n",
       "2     conform world transform renew mind ispeaklif g...  AGAINST  \n",
       "3     salah prai focu understand allah warn lazi pra...  AGAINST  \n",
       "4     stai hous displai like time ignor quran islam ...  AGAINST  \n",
       "...                                                 ...      ...  \n",
       "2809  there s law protect unborn eagl human uh idk y...  AGAINST  \n",
       "2810      abort abortionondemand menstruationmatt semst  AGAINST  \n",
       "2811  dare sexual prefer choic dare dismemb preborn ...  AGAINST  \n",
       "2812  equal right born wai right born liberallog lib...  AGAINST  \n",
       "2813  potu seal legaci w doz win gop agenda still re...  AGAINST  \n",
       "\n",
       "[2814 rows x 4 columns]"
      ]
     },
     "execution_count": 9,
     "metadata": {},
     "output_type": "execute_result"
    }
   ],
   "source": [
    "training_data"
   ]
  },
  {
   "cell_type": "markdown",
   "id": "af14850b",
   "metadata": {},
   "source": [
    "# Train and Test by SVM"
   ]
  },
  {
   "cell_type": "code",
   "execution_count": 10,
   "id": "ea9002f5",
   "metadata": {},
   "outputs": [],
   "source": [
    "train, test = train_test_split(training_data, test_size=0.3)"
   ]
  },
  {
   "cell_type": "code",
   "execution_count": 48,
   "id": "95d6e5e6",
   "metadata": {},
   "outputs": [],
   "source": [
    "train0, val = train_test_split(train, test_size=0.3)"
   ]
  },
  {
   "cell_type": "code",
   "execution_count": 60,
   "id": "e45a766b",
   "metadata": {},
   "outputs": [],
   "source": [
    "train_d = [tweet for tweet in train['Tweet'] + ' ' + train['Target']]\n",
    "test_d = [tweet for tweet in test['Tweet'] + ' ' + test['Target']]\n",
    "val_d = [tweet for tweet in val['Tweet'] + ' ' + val['Target']]\n",
    "# train_d = [tweet for tweet in train['Tweet']]\n",
    "# test_d = [tweet for tweet in test['Tweet']]\n",
    "# val_d = [tweet for tweet in val['Tweet']]"
   ]
  },
  {
   "cell_type": "code",
   "execution_count": null,
   "id": "208b6eb1",
   "metadata": {},
   "outputs": [],
   "source": []
  },
  {
   "cell_type": "code",
   "execution_count": 41,
   "id": "a23801ad",
   "metadata": {},
   "outputs": [
    {
     "data": {
      "text/plain": [
       "list"
      ]
     },
     "execution_count": 41,
     "metadata": {},
     "output_type": "execute_result"
    }
   ],
   "source": [
    "type(test_d)"
   ]
  },
  {
   "cell_type": "code",
   "execution_count": 66,
   "id": "d2b704e7",
   "metadata": {},
   "outputs": [],
   "source": [
    "vectorizer = TfidfVectorizer(ngram_range=(1, 2), max_df=1.0, min_df=1, \n",
    "                              binary=True, norm='l2', use_idf=True, \n",
    "                              smooth_idf=False, sublinear_tf=True, encoding='latin1')"
   ]
  },
  {
   "cell_type": "code",
   "execution_count": 61,
   "id": "2f0d4454",
   "metadata": {},
   "outputs": [],
   "source": [
    "X_train = vectorizer.fit_transform(train_d)\n",
    "X_test = vectorizer.transform(test_d)\n",
    "X_val = vectorizer.fit_transform(val_d)\n",
    "Y_train = np.asarray([stance for stance in train['Stance']])\n",
    "Y_test = np.asarray([stance for stance in test['Stance']])\n",
    "Y_val = np.asarray([stance for stance in val['Stance']])"
   ]
  },
  {
   "cell_type": "code",
   "execution_count": 28,
   "id": "b650047d",
   "metadata": {},
   "outputs": [
    {
     "name": "stdout",
     "output_type": "stream",
     "text": [
      "0.5360946745562131 0.7543120063354607\n"
     ]
    },
    {
     "data": {
      "image/png": "[encoded data removed]",
      "text/plain": [
       "<Figure size 432x288 with 1 Axes>"
      ]
     },
     "metadata": {
      "needs_background": "light"
     },
     "output_type": "display_data"
    }
   ],
   "source": [
    "import numpy as np\n",
    "import matplotlib.pyplot as plt\n",
    "from sklearn.pipeline import make_pipeline\n",
    "from sklearn.preprocessing import StandardScaler\n",
    "from sklearn.svm import SVC\n",
    "\n",
    "score = []\n",
    "gamma_range = np.logspace(-10, 1, 50)  \n",
    "for i in gamma_range:\n",
    "    clf = SVC(kernel=\"rbf\", gamma=i, cache_size=5000).fit(X_train, Y_train)\n",
    "    score.append(clf.score(X_test, Y_test))\n",
    "print(max(score), gamma_range[score.index(max(score))])\n",
    "plt.plot(gamma_range, score)\n",
    "plt.show()"
   ]
  },
  {
   "cell_type": "code",
   "execution_count": null,
   "id": "a2a27f89",
   "metadata": {},
   "outputs": [],
   "source": []
  },
  {
   "cell_type": "code",
   "execution_count": 62,
   "id": "33563ce3",
   "metadata": {},
   "outputs": [],
   "source": [
    "from sklearn.model_selection import StratifiedShuffleSplit\n",
    "from sklearn.model_selection import GridSearchCV"
   ]
  },
  {
   "cell_type": "code",
   "execution_count": 63,
   "id": "ccc2c1f4",
   "metadata": {},
   "outputs": [
    {
     "name": "stdout",
     "output_type": "stream",
     "text": [
      "The best parameters are {'coef0': 0.0, 'gamma': 2.636650898730366} with a score of 0.59628\n"
     ]
    }
   ],
   "source": [
    "\n",
    "gamma_range = np.logspace(-10, 1, 20)\n",
    "coef0_range = np.linspace(0, 5, 10)\n",
    "param_grid = dict(gamma=gamma_range,\n",
    "                  coef0=coef0_range)\n",
    "cv = StratifiedShuffleSplit(n_splits=5, test_size=0.3, random_state=420)\n",
    "grid = GridSearchCV(SVC(kernel=\"poly\", degree=1, cache_size=5000),\n",
    "                    param_grid=param_grid, cv=cv)\n",
    "grid.fit(X_train, Y_train)\n",
    "print(\"The best parameters are %s with a score of %0.5f\" % (grid.best_params_,\n",
    "                                                            grid.best_score_))"
   ]
  },
  {
   "cell_type": "code",
   "execution_count": 64,
   "id": "027f252c",
   "metadata": {},
   "outputs": [
    {
     "name": "stdout",
     "output_type": "stream",
     "text": [
      "Best parameters set found on development set:\n",
      "\n",
      "{'coef0': 0.0, 'gamma': 2.636650898730366}\n",
      "\n",
      "Grid scores on development set:\n",
      "\n",
      "Detailed classification report:\n",
      "\n",
      "The model is trained on the full development set.\n",
      "The scores are computed on the full evaluation set.\n",
      "\n",
      "              precision    recall  f1-score   support\n",
      "\n",
      "     AGAINST       0.68      0.76      0.72       419\n",
      "       FAVOR       0.51      0.51      0.51       211\n",
      "        NONE       0.57      0.44      0.50       215\n",
      "\n",
      "    accuracy                           0.62       845\n",
      "   macro avg       0.59      0.57      0.58       845\n",
      "weighted avg       0.61      0.62      0.61       845\n",
      "\n"
     ]
    }
   ],
   "source": [
    "print(\"Best parameters set found on development set:\")\n",
    "print()\n",
    "print(grid.best_params_)\n",
    "print()\n",
    "print(\"Grid scores on development set:\")\n",
    "print()\n",
    "\n",
    "print(\"Detailed classification report:\")\n",
    "print()\n",
    "print(\"The model is trained on the full development set.\")\n",
    "print(\"The scores are computed on the full evaluation set.\")\n",
    "print()\n",
    "y_true, y_pred = Y_test, grid.predict(X_test)\n",
    "print(classification_report(y_true, y_pred))"
   ]
  },
  {
   "cell_type": "code",
   "execution_count": null,
   "id": "5b6ee89a",
   "metadata": {},
   "outputs": [],
   "source": []
  }
 ],
 "metadata": {
  "kernelspec": {
   "display_name": "data_analytics_course0",
   "language": "python",
   "name": "data_analytics_course0"
  },
  "language_info": {
   "codemirror_mode": {
    "name": "ipython",
    "version": 3
   },
   "file_extension": ".py",
   "mimetype": "text/x-python",
   "name": "python",
   "nbconvert_exporter": "python",
   "pygments_lexer": "ipython3",
   "version": "3.9.12"
  }
 },
 "nbformat": 4,
 "nbformat_minor": 5
}
