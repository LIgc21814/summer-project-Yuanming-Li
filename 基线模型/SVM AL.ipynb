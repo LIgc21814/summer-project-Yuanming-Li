{
 "cells": [
  {
   "cell_type": "code",
   "execution_count": 54,
   "id": "b1f1cd81",
   "metadata": {},
   "outputs": [],
   "source": [
    "import codecs\n",
    "from os import path\n",
    "import pandas as pd\n",
    "import pdb\n",
    "import logging\n",
    "import re\n",
    "from gensim import parsing\n",
    "import gensim\n",
    "from gensim.parsing.porter import PorterStemmer\n",
    "from sklearn.feature_extraction.text import CountVectorizer\n",
    "import nltk\n",
    "from nltk.corpus import stopwords\n",
    "from sklearn.model_selection import train_test_split\n",
    "from sklearn.feature_extraction.text import TfidfVectorizer\n",
    "import numpy as np\n",
    "from sklearn.metrics import classification_report"
   ]
  },
  {
   "cell_type": "code",
   "execution_count": 55,
   "id": "082be126",
   "metadata": {},
   "outputs": [],
   "source": [
    "import numpy as np\n",
    "import matplotlib.pyplot as plt\n",
    "from sklearn.pipeline import make_pipeline\n",
    "from sklearn.preprocessing import StandardScaler\n",
    "from sklearn.svm import SVC"
   ]
  },
  {
   "cell_type": "code",
   "execution_count": 56,
   "id": "07aab20a",
   "metadata": {},
   "outputs": [],
   "source": [
    "training_file = path.join('semeval2016-task6-trainingdata.txt')\n",
    "training_data = pd.read_csv(training_file, header=0, delimiter='\\t')"
   ]
  },
  {
   "cell_type": "code",
   "execution_count": 57,
   "id": "ab0910a1",
   "metadata": {},
   "outputs": [],
   "source": [
    "testing_file = path.join('SemEval2016-Task6-subtaskA-testdata-gold.txt')\n",
    "testing_data = pd.read_csv(testing_file,header=0, delimiter='\\t')"
   ]
  },
  {
   "cell_type": "code",
   "execution_count": 58,
   "id": "56b9930d",
   "metadata": {},
   "outputs": [],
   "source": [
    "def preprocess(text):\n",
    "    #convert text to lower case\n",
    "    text = text.lower()\n",
    "   \n",
    "    #removing whitespace\n",
    "    text.strip()\n",
    "\n",
    "    #removing digits\n",
    "    text = gensim.parsing.preprocessing.strip_numeric(text)\n",
    "    #text = ' '.join(s for s in text.split() if not any(c.isdigit() for c in s))\n",
    "    \n",
    "    #remove stopwords\n",
    "    text = gensim.parsing.preprocessing.remove_stopwords(text)\n",
    "    \n",
    "    #strip punctutation\n",
    "    text = gensim.parsing.preprocessing.strip_punctuation(text)\n",
    "    \n",
    "    #strip multiple whitepsace that might occur after we remove stopwords\n",
    "    text = gensim.parsing.preprocessing.strip_multiple_whitespaces(text)\n",
    "\n",
    "    p = PorterStemmer()\n",
    "    \n",
    "    text = ' '.join(p.stem(word) for word in text.split())    \n",
    "\n",
    "    #print(text)\n",
    "    \n",
    "    return text"
   ]
  },
  {
   "cell_type": "code",
   "execution_count": 59,
   "id": "b2b1e06b",
   "metadata": {},
   "outputs": [],
   "source": [
    "training_data['Tweet'] = training_data['Tweet'].map(preprocess)"
   ]
  },
  {
   "cell_type": "code",
   "execution_count": 60,
   "id": "71055fac",
   "metadata": {},
   "outputs": [],
   "source": [
    "testing_data['Tweet'] = testing_data['Tweet'].map(preprocess)"
   ]
  },
  {
   "cell_type": "code",
   "execution_count": 61,
   "id": "d6179c63",
   "metadata": {},
   "outputs": [],
   "source": [
    "training_data = training_data[training_data.Target == \"Legalization of Abortion\"]"
   ]
  },
  {
   "cell_type": "code",
   "execution_count": 62,
   "id": "e16a1e3d",
   "metadata": {},
   "outputs": [],
   "source": [
    "testing_data = testing_data[testing_data.Target== \"Legalization of Abortion\"]"
   ]
  },
  {
   "cell_type": "code",
   "execution_count": 63,
   "id": "54c4a559",
   "metadata": {},
   "outputs": [],
   "source": [
    "X_train = training_data[\"Tweet\"]"
   ]
  },
  {
   "cell_type": "code",
   "execution_count": 64,
   "id": "0f018d98",
   "metadata": {},
   "outputs": [],
   "source": [
    "X_train = np.asarray([stance for stance in training_data[\"Tweet\"]])"
   ]
  },
  {
   "cell_type": "code",
   "execution_count": 65,
   "id": "97e31fc4",
   "metadata": {},
   "outputs": [],
   "source": [
    "Y_train = np.asarray([stance for stance in training_data[\"Stance\"]])"
   ]
  },
  {
   "cell_type": "code",
   "execution_count": 66,
   "id": "e3a14aa1",
   "metadata": {},
   "outputs": [],
   "source": [
    "X_test = np.asarray([stance for stance in testing_data[\"Tweet\"]])"
   ]
  },
  {
   "cell_type": "code",
   "execution_count": 67,
   "id": "d04c1fdd",
   "metadata": {},
   "outputs": [],
   "source": [
    "Y_test = np.asarray([stance for stance in testing_data[\"Stance\"]])"
   ]
  },
  {
   "cell_type": "code",
   "execution_count": 68,
   "id": "d5503d34",
   "metadata": {},
   "outputs": [
    {
     "data": {
      "text/plain": [
       "numpy.ndarray"
      ]
     },
     "execution_count": 68,
     "metadata": {},
     "output_type": "execute_result"
    }
   ],
   "source": [
    "type(Y_train)"
   ]
  },
  {
   "cell_type": "code",
   "execution_count": 69,
   "id": "9e0facf3",
   "metadata": {},
   "outputs": [],
   "source": [
    "import numpy as np\n",
    "\n",
    "# Set our RNG seed for reproducibility.\n",
    "RANDOM_STATE_SEED = 123\n",
    "np.random.seed(RANDOM_STATE_SEED)"
   ]
  },
  {
   "cell_type": "code",
   "execution_count": 70,
   "id": "5db32405",
   "metadata": {},
   "outputs": [],
   "source": [
    "# Isolate our examples for our labeled dataset.\n",
    "n_labeled_examples = X_train.shape[0]\n",
    "training_indices = np.random.randint(low=0, high=n_labeled_examples + 1, size=3)\n",
    "\n",
    "X_training = X_train[training_indices]\n",
    "y_training = Y_train[training_indices]\n",
    "\n"
   ]
  },
  {
   "cell_type": "code",
   "execution_count": 71,
   "id": "107bd677",
   "metadata": {},
   "outputs": [
    {
     "data": {
      "text/plain": [
       "array([510, 365, 382])"
      ]
     },
     "execution_count": 71,
     "metadata": {},
     "output_type": "execute_result"
    }
   ],
   "source": [
    "training_indices"
   ]
  },
  {
   "cell_type": "code",
   "execution_count": 72,
   "id": "42d71790",
   "metadata": {},
   "outputs": [],
   "source": [
    "# Isolate the non-training examples we'll be querying.\n",
    "X_pool = np.delete(X_train,training_indices,axis=0)\n",
    "y_pool = np.delete(Y_train,training_indices,axis=0)"
   ]
  },
  {
   "cell_type": "code",
   "execution_count": 73,
   "id": "15953939",
   "metadata": {},
   "outputs": [
    {
     "data": {
      "text/plain": [
       "600"
      ]
     },
     "execution_count": 73,
     "metadata": {},
     "output_type": "execute_result"
    }
   ],
   "source": [
    "len(y_pool)"
   ]
  },
  {
   "cell_type": "code",
   "execution_count": 74,
   "id": "6851e5c5",
   "metadata": {},
   "outputs": [],
   "source": [
    "vectorizer = TfidfVectorizer(ngram_range=(1, 2), max_df=1.0, min_df=1, \n",
    "                              binary=True, norm='l2', use_idf=True, \n",
    "                              smooth_idf=False, sublinear_tf=True, encoding='latin1')"
   ]
  },
  {
   "cell_type": "code",
   "execution_count": 75,
   "id": "207155fb",
   "metadata": {},
   "outputs": [],
   "source": [
    "X_training = vectorizer.fit_transform(X_training)\n",
    "X_testing = vectorizer.transform(X_test)\n",
    "X_pool_tifd = vectorizer.transform(X_pool)"
   ]
  },
  {
   "cell_type": "code",
   "execution_count": 76,
   "id": "d6661cfa",
   "metadata": {},
   "outputs": [
    {
     "data": {
      "text/plain": [
       "(280, 42)"
      ]
     },
     "execution_count": 76,
     "metadata": {},
     "output_type": "execute_result"
    }
   ],
   "source": [
    "X_testing.shape"
   ]
  },
  {
   "cell_type": "code",
   "execution_count": 77,
   "id": "336d52ad",
   "metadata": {},
   "outputs": [
    {
     "data": {
      "text/plain": [
       "(280,)"
      ]
     },
     "execution_count": 77,
     "metadata": {},
     "output_type": "execute_result"
    }
   ],
   "source": [
    "Y_test.shape"
   ]
  },
  {
   "cell_type": "code",
   "execution_count": 78,
   "id": "42079611",
   "metadata": {},
   "outputs": [
    {
     "data": {
      "text/plain": [
       "scipy.sparse._csr.csr_matrix"
      ]
     },
     "execution_count": 78,
     "metadata": {},
     "output_type": "execute_result"
    }
   ],
   "source": [
    "type(X_pool_tifd)"
   ]
  },
  {
   "cell_type": "code",
   "execution_count": 79,
   "id": "2cc56415",
   "metadata": {},
   "outputs": [],
   "source": [
    "X_pool_tifd=X_pool_tifd.todense()\n",
    "X_pool_tifd = np.asarray(X_pool_tifd)"
   ]
  },
  {
   "cell_type": "code",
   "execution_count": null,
   "id": "5e520302",
   "metadata": {},
   "outputs": [],
   "source": []
  },
  {
   "cell_type": "code",
   "execution_count": 80,
   "id": "fc8a9b6b",
   "metadata": {},
   "outputs": [
    {
     "data": {
      "text/plain": [
       "numpy.ndarray"
      ]
     },
     "execution_count": 80,
     "metadata": {},
     "output_type": "execute_result"
    }
   ],
   "source": [
    "type(y_pool)"
   ]
  },
  {
   "cell_type": "code",
   "execution_count": 81,
   "id": "3e8ea3bd",
   "metadata": {},
   "outputs": [],
   "source": [
    "y_pool = np.asarray([stance for stance in y_pool])"
   ]
  },
  {
   "cell_type": "code",
   "execution_count": 82,
   "id": "6dd71835",
   "metadata": {},
   "outputs": [
    {
     "data": {
      "text/plain": [
       "numpy.ndarray"
      ]
     },
     "execution_count": 82,
     "metadata": {},
     "output_type": "execute_result"
    }
   ],
   "source": [
    "type(y_training)"
   ]
  },
  {
   "cell_type": "code",
   "execution_count": 83,
   "id": "9ff819b4",
   "metadata": {},
   "outputs": [
    {
     "data": {
      "text/plain": [
       "(3, 42)"
      ]
     },
     "execution_count": 83,
     "metadata": {},
     "output_type": "execute_result"
    }
   ],
   "source": [
    "X_training.shape"
   ]
  },
  {
   "cell_type": "code",
   "execution_count": 84,
   "id": "ab1560d7",
   "metadata": {},
   "outputs": [],
   "source": [
    "from modAL.models import ActiveLearner\n",
    "from modAL.uncertainty import uncertainty_sampling\n",
    "# initializing the learner\n",
    "learner = ActiveLearner(\n",
    "    estimator=SVC(kernel=\"rbf\",probability=True),\n",
    "    X_training=X_training, y_training=y_training,\n",
    "    query_strategy=uncertainty_sampling\n",
    ")\n"
   ]
  },
  {
   "cell_type": "code",
   "execution_count": 85,
   "id": "0fc6fc3c",
   "metadata": {},
   "outputs": [],
   "source": [
    "unqueried_score = learner.score(X_testing, Y_test)"
   ]
  },
  {
   "cell_type": "code",
   "execution_count": 86,
   "id": "66532bf1",
   "metadata": {},
   "outputs": [
    {
     "data": {
      "text/plain": [
       "0.31785714285714284"
      ]
     },
     "execution_count": 86,
     "metadata": {},
     "output_type": "execute_result"
    }
   ],
   "source": [
    "unqueried_score"
   ]
  },
  {
   "cell_type": "code",
   "execution_count": 87,
   "id": "e09874d6",
   "metadata": {},
   "outputs": [
    {
     "data": {
      "text/plain": [
       "numpy.ndarray"
      ]
     },
     "execution_count": 87,
     "metadata": {},
     "output_type": "execute_result"
    }
   ],
   "source": [
    "type(y_pool[100].reshape(1, ))"
   ]
  },
  {
   "cell_type": "code",
   "execution_count": 88,
   "id": "840ebf31",
   "metadata": {},
   "outputs": [],
   "source": [
    "# query_index, query_instance = learner.query(X_pool_tifd)"
   ]
  },
  {
   "cell_type": "code",
   "execution_count": 89,
   "id": "a0c94c8b",
   "metadata": {},
   "outputs": [],
   "source": [
    "# X = X_pool_tifd[query_index].reshape(1, -1)"
   ]
  },
  {
   "cell_type": "code",
   "execution_count": 90,
   "id": "c11d36c5",
   "metadata": {},
   "outputs": [],
   "source": [
    "# X.shape"
   ]
  },
  {
   "cell_type": "code",
   "execution_count": 91,
   "id": "2024f2fd",
   "metadata": {},
   "outputs": [],
   "source": [
    "# y = y_pool[query_index].reshape(1, )"
   ]
  },
  {
   "cell_type": "code",
   "execution_count": 92,
   "id": "0a96ff93",
   "metadata": {},
   "outputs": [],
   "source": [
    "# y.shape"
   ]
  },
  {
   "cell_type": "code",
   "execution_count": 93,
   "id": "a3ac4c16",
   "metadata": {},
   "outputs": [],
   "source": [
    "# type(y)"
   ]
  },
  {
   "cell_type": "code",
   "execution_count": 94,
   "id": "e3a022c5",
   "metadata": {},
   "outputs": [],
   "source": [
    "# learner.teach(X=X,y=y)"
   ]
  },
  {
   "cell_type": "code",
   "execution_count": null,
   "id": "8fe53f54",
   "metadata": {},
   "outputs": [],
   "source": []
  },
  {
   "cell_type": "code",
   "execution_count": null,
   "id": "4fa56498",
   "metadata": {},
   "outputs": [],
   "source": []
  },
  {
   "cell_type": "code",
   "execution_count": null,
   "id": "1e00d93d",
   "metadata": {},
   "outputs": [],
   "source": []
  },
  {
   "cell_type": "code",
   "execution_count": 96,
   "id": "aa49d0dd",
   "metadata": {},
   "outputs": [
    {
     "name": "stdout",
     "output_type": "stream",
     "text": [
      "Accuracy after query 1: 0.6750\n",
      "Accuracy after query 2: 0.5143\n",
      "Accuracy after query 3: 0.4893\n",
      "Accuracy after query 4: 0.6750\n",
      "Accuracy after query 5: 0.6893\n",
      "Accuracy after query 6: 0.6750\n",
      "Accuracy after query 7: 0.6679\n",
      "Accuracy after query 8: 0.6714\n",
      "Accuracy after query 9: 0.6714\n",
      "Accuracy after query 10: 0.6750\n",
      "Accuracy after query 11: 0.6750\n",
      "Accuracy after query 12: 0.6643\n",
      "Accuracy after query 13: 0.6714\n",
      "Accuracy after query 14: 0.6714\n",
      "Accuracy after query 15: 0.6714\n",
      "Accuracy after query 16: 0.6714\n",
      "Accuracy after query 17: 0.6714\n",
      "Accuracy after query 18: 0.6714\n",
      "Accuracy after query 19: 0.6714\n",
      "Accuracy after query 20: 0.6714\n",
      "Accuracy after query 21: 0.6714\n",
      "Accuracy after query 22: 0.6714\n",
      "Accuracy after query 23: 0.6679\n",
      "Accuracy after query 24: 0.6679\n",
      "Accuracy after query 25: 0.6679\n",
      "Accuracy after query 26: 0.6679\n",
      "Accuracy after query 27: 0.6679\n",
      "Accuracy after query 28: 0.6679\n",
      "Accuracy after query 29: 0.6679\n",
      "Accuracy after query 30: 0.6679\n"
     ]
    }
   ],
   "source": [
    "N_QUERIES = 30\n",
    "performance_history = [unqueried_score]\n",
    "\n",
    "for index in range(N_QUERIES):\n",
    "    query_index, query_instance = learner.query(X_pool_tifd,n_instances = 20)\n",
    "    X = X_pool[query_index]\n",
    "    X = vectorizer.transform(X)\n",
    "    y = y_pool[query_index]\n",
    "    learner.teach(X=X,y=y)\n",
    "    X_pool_tifd = np.delete(X_pool_tifd,query_index,axis=0)\n",
    "    y_pool = np.delete(y_pool,query_index,axis=0)\n",
    "    model_accuracy = learner.score(X_testing, Y_test)\n",
    "    print('Accuracy after query {n}: {acc:0.4f}'.format(n=index + 1, acc=model_accuracy))\n",
    "    performance_history.append(model_accuracy)"
   ]
  },
  {
   "cell_type": "code",
   "execution_count": 97,
   "id": "4886df85",
   "metadata": {},
   "outputs": [],
   "source": [
    "active_mc = []\n",
    "mcrun = 0"
   ]
  },
  {
   "cell_type": "code",
   "execution_count": 100,
   "id": "ccad31ef",
   "metadata": {},
   "outputs": [
    {
     "data": {
      "image/png": "[encoded data removed]",
      "text/plain": [
       "<Figure size 1105x780 with 1 Axes>"
      ]
     },
     "metadata": {
      "needs_background": "light"
     },
     "output_type": "display_data"
    }
   ],
   "source": [
    "%matplotlib inline\n",
    "import matplotlib as mpl\n",
    "import matplotlib.pyplot as plt\n",
    "fig, ax = plt.subplots(figsize=(8.5, 6), dpi=130)\n",
    "\n",
    "ax.plot(performance_history)\n",
    "ax.scatter(range(len(performance_history)), performance_history, s=13)\n",
    "\n",
    "ax.xaxis.set_major_locator(mpl.ticker.MaxNLocator(nbins=5, integer=True))\n",
    "ax.yaxis.set_major_locator(mpl.ticker.MaxNLocator(nbins=10))\n",
    "ax.yaxis.set_major_formatter(mpl.ticker.PercentFormatter(xmax=1))\n",
    "\n",
    "ax.set_ylim(bottom=0, top=1)\n",
    "ax.grid(True)\n",
    "\n",
    "ax.set_title('Incremental classification accuracy with SVM')\n",
    "ax.set_xlabel('Query iteration')\n",
    "ax.set_ylabel('Classification Accuracy')\n",
    "\n",
    "plt.show()"
   ]
  },
  {
   "cell_type": "code",
   "execution_count": 101,
   "id": "91b50ba8",
   "metadata": {},
   "outputs": [],
   "source": [
    "fig.savefig('SVM_fig.jpg')"
   ]
  },
  {
   "cell_type": "markdown",
   "id": "7184cdcb",
   "metadata": {},
   "source": [
    "# BERT"
   ]
  },
  {
   "cell_type": "code",
   "execution_count": null,
   "id": "51ee40cf",
   "metadata": {},
   "outputs": [],
   "source": [
    "from transformers import AutoModel # For BERTs\n",
    "\n",
    "model = AutoModel.from_pretrained(\"prajjwal1/bert-tiny\") "
   ]
  },
  {
   "cell_type": "code",
   "execution_count": null,
   "id": "07260b9b",
   "metadata": {},
   "outputs": [],
   "source": [
    "from transformers import AutoTokenizer\n",
    "\n",
    "tokenizer = AutoTokenizer.from_pretrained(\"prajjwal1/bert-tiny\") "
   ]
  },
  {
   "cell_type": "code",
   "execution_count": null,
   "id": "b8559e44",
   "metadata": {},
   "outputs": [],
   "source": [
    "def tokenize_function(dataset):\n",
    "    model_inputs = tokenizer(dataset['text'], padding=\"max_length\", max_length=100, truncation=True)\n",
    "    return model_inputs"
   ]
  },
  {
   "cell_type": "code",
   "execution_count": null,
   "id": "b4e50bcd",
   "metadata": {},
   "outputs": [],
   "source": []
  },
  {
   "cell_type": "code",
   "execution_count": null,
   "id": "886a85d8",
   "metadata": {},
   "outputs": [],
   "source": []
  },
  {
   "cell_type": "code",
   "execution_count": null,
   "id": "76ff9719",
   "metadata": {},
   "outputs": [],
   "source": []
  },
  {
   "cell_type": "code",
   "execution_count": null,
   "id": "312a375a",
   "metadata": {},
   "outputs": [],
   "source": []
  },
  {
   "cell_type": "code",
   "execution_count": null,
   "id": "7e62c982",
   "metadata": {},
   "outputs": [],
   "source": []
  },
  {
   "cell_type": "code",
   "execution_count": null,
   "id": "93caf9a0",
   "metadata": {},
   "outputs": [],
   "source": []
  },
  {
   "cell_type": "code",
   "execution_count": null,
   "id": "04cc2b3b",
   "metadata": {},
   "outputs": [],
   "source": []
  },
  {
   "cell_type": "code",
   "execution_count": null,
   "id": "7d6054dc",
   "metadata": {},
   "outputs": [],
   "source": []
  },
  {
   "cell_type": "code",
   "execution_count": null,
   "id": "8d1026a7",
   "metadata": {},
   "outputs": [],
   "source": []
  },
  {
   "cell_type": "code",
   "execution_count": null,
   "id": "1b77f632",
   "metadata": {},
   "outputs": [],
   "source": []
  }
 ],
 "metadata": {
  "kernelspec": {
   "display_name": "data_analytics_course0",
   "language": "python",
   "name": "data_analytics_course0"
  },
  "language_info": {
   "codemirror_mode": {
    "name": "ipython",
    "version": 3
   },
   "file_extension": ".py",
   "mimetype": "text/x-python",
   "name": "python",
   "nbconvert_exporter": "python",
   "pygments_lexer": "ipython3",
   "version": "3.9.12"
  }
 },
 "nbformat": 4,
 "nbformat_minor": 5
}
