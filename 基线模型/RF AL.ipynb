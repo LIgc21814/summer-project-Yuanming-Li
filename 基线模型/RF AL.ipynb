{
 "cells": [
  {
   "cell_type": "code",
   "execution_count": 34,
   "id": "954fc00b",
   "metadata": {},
   "outputs": [],
   "source": [
    "import codecs\n",
    "from os import path\n",
    "import pandas as pd\n",
    "import pdb\n",
    "import logging\n",
    "import re\n",
    "from gensim import parsing\n",
    "import gensim\n",
    "from gensim.parsing.porter import PorterStemmer\n",
    "from sklearn.feature_extraction.text import CountVectorizer\n",
    "import nltk\n",
    "from nltk.corpus import stopwords\n",
    "from sklearn.model_selection import train_test_split\n",
    "from sklearn.feature_extraction.text import TfidfVectorizer\n",
    "import numpy as np\n",
    "from sklearn.metrics import classification_report"
   ]
  },
  {
   "cell_type": "code",
   "execution_count": 35,
   "id": "5173c7a6",
   "metadata": {},
   "outputs": [],
   "source": [
    "import numpy as np\n",
    "import matplotlib.pyplot as plt\n",
    "from sklearn.pipeline import make_pipeline\n",
    "from sklearn.preprocessing import StandardScaler\n",
    "from sklearn.svm import SVC"
   ]
  },
  {
   "cell_type": "code",
   "execution_count": 36,
   "id": "38c70d80",
   "metadata": {},
   "outputs": [],
   "source": [
    "training_file = path.join('semeval2016-task6-trainingdata.txt')\n",
    "training_data = pd.read_csv(training_file, header=0, delimiter='\\t')"
   ]
  },
  {
   "cell_type": "code",
   "execution_count": 37,
   "id": "0f4094b8",
   "metadata": {},
   "outputs": [],
   "source": [
    "testing_file = path.join('SemEval2016-Task6-subtaskA-testdata-gold.txt')\n",
    "testing_data = pd.read_csv(testing_file,header=0, delimiter='\\t')"
   ]
  },
  {
   "cell_type": "code",
   "execution_count": 38,
   "id": "0c12f55d",
   "metadata": {},
   "outputs": [],
   "source": [
    "def preprocess(text):\n",
    "    #convert text to lower case\n",
    "    text = text.lower()\n",
    "   \n",
    "    #removing whitespace\n",
    "    text.strip()\n",
    "\n",
    "    #removing digits\n",
    "    text = gensim.parsing.preprocessing.strip_numeric(text)\n",
    "    #text = ' '.join(s for s in text.split() if not any(c.isdigit() for c in s))\n",
    "    \n",
    "    #remove stopwords\n",
    "    text = gensim.parsing.preprocessing.remove_stopwords(text)\n",
    "    \n",
    "    #strip punctutation\n",
    "    text = gensim.parsing.preprocessing.strip_punctuation(text)\n",
    "    \n",
    "    #strip multiple whitepsace that might occur after we remove stopwords\n",
    "    text = gensim.parsing.preprocessing.strip_multiple_whitespaces(text)\n",
    "\n",
    "    p = PorterStemmer()\n",
    "    \n",
    "    text = ' '.join(p.stem(word) for word in text.split())    \n",
    "\n",
    "    #print(text)\n",
    "    \n",
    "    return text"
   ]
  },
  {
   "cell_type": "code",
   "execution_count": 39,
   "id": "32645010",
   "metadata": {},
   "outputs": [],
   "source": [
    "training_data['Tweet'] = training_data['Tweet'].map(preprocess)"
   ]
  },
  {
   "cell_type": "code",
   "execution_count": 40,
   "id": "eb0d9564",
   "metadata": {},
   "outputs": [],
   "source": [
    "testing_data['Tweet'] = testing_data['Tweet'].map(preprocess)"
   ]
  },
  {
   "cell_type": "code",
   "execution_count": 41,
   "id": "989bf525",
   "metadata": {},
   "outputs": [],
   "source": [
    "training_data = training_data[training_data.Target == \"Legalization of Abortion\"]\n",
    "testing_data = testing_data[testing_data.Target== \"Legalization of Abortion\"]"
   ]
  },
  {
   "cell_type": "code",
   "execution_count": 42,
   "id": "3d918180",
   "metadata": {},
   "outputs": [],
   "source": [
    "X_train = training_data[\"Tweet\"]"
   ]
  },
  {
   "cell_type": "code",
   "execution_count": 43,
   "id": "30d3ca99",
   "metadata": {},
   "outputs": [],
   "source": [
    "X_train = np.asarray([stance for stance in training_data[\"Tweet\"]])"
   ]
  },
  {
   "cell_type": "code",
   "execution_count": 44,
   "id": "7d92d1f7",
   "metadata": {},
   "outputs": [],
   "source": [
    "Y_train = np.asarray([stance for stance in training_data[\"Stance\"]])"
   ]
  },
  {
   "cell_type": "code",
   "execution_count": 45,
   "id": "1395d8c7",
   "metadata": {},
   "outputs": [],
   "source": [
    "X_test = np.asarray([stance for stance in testing_data[\"Tweet\"]])"
   ]
  },
  {
   "cell_type": "code",
   "execution_count": 46,
   "id": "5e3fe01a",
   "metadata": {},
   "outputs": [],
   "source": [
    "Y_test = np.asarray([stance for stance in testing_data[\"Stance\"]])"
   ]
  },
  {
   "cell_type": "code",
   "execution_count": 47,
   "id": "4d451ae6",
   "metadata": {},
   "outputs": [
    {
     "data": {
      "text/plain": [
       "numpy.ndarray"
      ]
     },
     "execution_count": 47,
     "metadata": {},
     "output_type": "execute_result"
    }
   ],
   "source": [
    "type(Y_train)"
   ]
  },
  {
   "cell_type": "code",
   "execution_count": 48,
   "id": "4a441693",
   "metadata": {},
   "outputs": [],
   "source": [
    "import numpy as np\n",
    "\n",
    "# Set our RNG seed for reproducibility.\n",
    "RANDOM_STATE_SEED = 123\n",
    "np.random.seed(RANDOM_STATE_SEED)"
   ]
  },
  {
   "cell_type": "code",
   "execution_count": 49,
   "id": "07e1ed40",
   "metadata": {},
   "outputs": [],
   "source": [
    "# Isolate our examples for our labeled dataset.\n",
    "n_labeled_examples = X_train.shape[0]\n",
    "training_indices = np.random.randint(low=0, high=n_labeled_examples + 1, size=3)\n",
    "\n",
    "X_training = X_train[training_indices]\n",
    "y_training = Y_train[training_indices]"
   ]
  },
  {
   "cell_type": "code",
   "execution_count": 50,
   "id": "cb0b50c8",
   "metadata": {},
   "outputs": [],
   "source": [
    "# Isolate the non-training examples we'll be querying.\n",
    "X_pool = np.delete(X_train,training_indices,axis=0)\n",
    "y_pool = np.delete(Y_train,training_indices,axis=0)"
   ]
  },
  {
   "cell_type": "code",
   "execution_count": 51,
   "id": "d5b495a9",
   "metadata": {},
   "outputs": [],
   "source": [
    "vectorizer = TfidfVectorizer(ngram_range=(1, 2), max_df=1.0, min_df=1, \n",
    "                              binary=True, norm='l2', use_idf=True, \n",
    "                              smooth_idf=False, sublinear_tf=True, encoding='latin1')"
   ]
  },
  {
   "cell_type": "code",
   "execution_count": 52,
   "id": "bf1f3f51",
   "metadata": {},
   "outputs": [],
   "source": [
    "X_training = vectorizer.fit_transform(X_training)\n",
    "X_testing = vectorizer.transform(X_test)\n",
    "X_pool_tifd = vectorizer.transform(X_pool)"
   ]
  },
  {
   "cell_type": "code",
   "execution_count": 53,
   "id": "be42d41d",
   "metadata": {},
   "outputs": [],
   "source": [
    "y_pool = np.asarray([stance for stance in y_pool])"
   ]
  },
  {
   "cell_type": "code",
   "execution_count": 54,
   "id": "2b55a8fd",
   "metadata": {},
   "outputs": [],
   "source": [
    "X_pool_tifd = X_pool_tifd.todense()"
   ]
  },
  {
   "cell_type": "code",
   "execution_count": 55,
   "id": "67842727",
   "metadata": {},
   "outputs": [],
   "source": [
    "X_pool_tifd = np.asarray(X_pool_tifd)"
   ]
  },
  {
   "cell_type": "code",
   "execution_count": 56,
   "id": "c4abe267",
   "metadata": {},
   "outputs": [],
   "source": [
    "def predict_proba(X, model, num_samples):\n",
    "    preds = [model(X, training=True) for _ in range(num_samples)]\n",
    "    return np.stack(preds).mean(axis=0)"
   ]
  },
  {
   "cell_type": "code",
   "execution_count": 57,
   "id": "b356d2c7",
   "metadata": {},
   "outputs": [],
   "source": [
    "def predict_class(X, model, num_samples):\n",
    "    proba_preds = predict_proba(X, model, num_samples)\n",
    "    return np.argmax(proba_preds, axis=1)"
   ]
  },
  {
   "cell_type": "code",
   "execution_count": null,
   "id": "a30d35b2",
   "metadata": {},
   "outputs": [],
   "source": []
  },
  {
   "cell_type": "markdown",
   "id": "37715d29",
   "metadata": {},
   "source": [
    "# uncertainty_sampling"
   ]
  },
  {
   "cell_type": "code",
   "execution_count": 58,
   "id": "48952942",
   "metadata": {},
   "outputs": [],
   "source": [
    "from modAL.models import ActiveLearner\n",
    "from sklearn.ensemble import RandomForestClassifier\n",
    "from modAL.uncertainty import uncertainty_sampling\n",
    "# initializing the learner\n",
    "learner = ActiveLearner(\n",
    "    estimator=RandomForestClassifier(),\n",
    "    X_training=X_training, y_training=y_training,\n",
    "    query_strategy=uncertainty_sampling\n",
    ")\n"
   ]
  },
  {
   "cell_type": "code",
   "execution_count": 59,
   "id": "0bdece00",
   "metadata": {},
   "outputs": [],
   "source": [
    "unqueried_score = learner.score(X_testing, Y_test)"
   ]
  },
  {
   "cell_type": "code",
   "execution_count": 60,
   "id": "79ac9488",
   "metadata": {},
   "outputs": [
    {
     "data": {
      "text/plain": [
       "0.17142857142857143"
      ]
     },
     "execution_count": 60,
     "metadata": {},
     "output_type": "execute_result"
    }
   ],
   "source": [
    "unqueried_score"
   ]
  },
  {
   "cell_type": "code",
   "execution_count": 61,
   "id": "9255647c",
   "metadata": {},
   "outputs": [
    {
     "data": {
      "text/plain": [
       "numpy.ndarray"
      ]
     },
     "execution_count": 61,
     "metadata": {},
     "output_type": "execute_result"
    }
   ],
   "source": [
    "type(y_pool[100].reshape(1, ))"
   ]
  },
  {
   "cell_type": "code",
   "execution_count": 63,
   "id": "97575f48",
   "metadata": {},
   "outputs": [
    {
     "name": "stdout",
     "output_type": "stream",
     "text": [
      "Accuracy after query 1: 0.6571\n",
      "Accuracy after query 2: 0.5571\n",
      "Accuracy after query 3: 0.5750\n",
      "Accuracy after query 4: 0.6679\n",
      "Accuracy after query 5: 0.6607\n",
      "Accuracy after query 6: 0.6643\n",
      "Accuracy after query 7: 0.6607\n",
      "Accuracy after query 8: 0.6714\n",
      "Accuracy after query 9: 0.6429\n",
      "Accuracy after query 10: 0.6464\n",
      "Accuracy after query 11: 0.6536\n",
      "Accuracy after query 12: 0.6679\n",
      "Accuracy after query 13: 0.6536\n",
      "Accuracy after query 14: 0.6679\n",
      "Accuracy after query 15: 0.6357\n",
      "Accuracy after query 16: 0.6429\n",
      "Accuracy after query 17: 0.6536\n",
      "Accuracy after query 18: 0.6571\n",
      "Accuracy after query 19: 0.6429\n",
      "Accuracy after query 20: 0.6357\n",
      "Accuracy after query 21: 0.6393\n",
      "Accuracy after query 22: 0.6500\n",
      "Accuracy after query 23: 0.6571\n",
      "Accuracy after query 24: 0.6571\n",
      "Accuracy after query 25: 0.6464\n",
      "Accuracy after query 26: 0.6607\n",
      "Accuracy after query 27: 0.6500\n",
      "Accuracy after query 28: 0.6607\n",
      "Accuracy after query 29: 0.6607\n",
      "Accuracy after query 30: 0.6607\n"
     ]
    }
   ],
   "source": [
    "N_QUERIES = 30\n",
    "performance_history = [unqueried_score]\n",
    "\n",
    "for index in range(N_QUERIES):\n",
    "    query_index, query_instance = learner.query(X_pool_tifd,n_instances = 20)\n",
    "    X = X_pool[query_index]\n",
    "    X = vectorizer.transform(X)\n",
    "    y = y_pool[query_index]\n",
    "    learner.teach(X=X,y=y)\n",
    "    X_pool_tifd = np.delete(X_pool_tifd,query_index,axis=0)\n",
    "    y_pool = np.delete(y_pool,query_index,axis=0)\n",
    "    model_accuracy = learner.score(X_testing, Y_test)\n",
    "    print('Accuracy after query {n}: {acc:0.4f}'.format(n=index + 1, acc=model_accuracy))\n",
    "    performance_history.append(model_accuracy)"
   ]
  },
  {
   "cell_type": "code",
   "execution_count": 66,
   "id": "b06405a2",
   "metadata": {},
   "outputs": [
    {
     "data": {
      "image/png": "[encoded data removed]",
      "text/plain": [
       "<Figure size 1105x780 with 1 Axes>"
      ]
     },
     "metadata": {
      "needs_background": "light"
     },
     "output_type": "display_data"
    }
   ],
   "source": [
    "%matplotlib inline\n",
    "import matplotlib as mpl\n",
    "import matplotlib.pyplot as plt\n",
    "fig, ax = plt.subplots(figsize=(8.5, 6), dpi=130)\n",
    "\n",
    "ax.plot(performance_history)\n",
    "ax.scatter(range(len(performance_history)), performance_history, s=13)\n",
    "\n",
    "ax.xaxis.set_major_locator(mpl.ticker.MaxNLocator(nbins=5, integer=True))\n",
    "ax.yaxis.set_major_locator(mpl.ticker.MaxNLocator(nbins=10))\n",
    "ax.yaxis.set_major_formatter(mpl.ticker.PercentFormatter(xmax=1))\n",
    "\n",
    "ax.set_ylim(bottom=0, top=1)\n",
    "ax.grid(True)\n",
    "\n",
    "ax.set_title('Incremental classification accuracy with Random Forest')\n",
    "ax.set_xlabel('Query iteration')\n",
    "ax.set_ylabel('Classification Accuracy')\n",
    "\n",
    "plt.show()"
   ]
  },
  {
   "cell_type": "code",
   "execution_count": 67,
   "id": "24dbdde3",
   "metadata": {},
   "outputs": [],
   "source": [
    "fig.savefig('RF_fig.jpg')"
   ]
  },
  {
   "cell_type": "markdown",
   "id": "8c7cbf1a",
   "metadata": {},
   "source": [
    "# ranked batch mode sampling"
   ]
  },
  {
   "cell_type": "code",
   "execution_count": null,
   "id": "040d6adf",
   "metadata": {},
   "outputs": [],
   "source": [
    "# Isolate our examples for our labeled dataset.\n",
    "n_labeled_examples = X_train.shape[0]\n",
    "training_indices = np.random.randint(low=0, high=n_labeled_examples + 1, size=3)\n",
    "\n",
    "X_training_ = X_train[training_indices]\n",
    "y_training_ = Y_train[training_indices]"
   ]
  },
  {
   "cell_type": "code",
   "execution_count": null,
   "id": "77b270ed",
   "metadata": {},
   "outputs": [],
   "source": [
    "from functools import partial\n",
    "from modAL.batch import uncertainty_batch_sampling\n",
    "from modAL.models import ActiveLearner\n",
    "\n",
    "# Pre-set our batch sampling to retrieve 3 samples at a time.\n",
    "BATCH_SIZE = 3\n",
    "preset_batch = partial(uncertainty_batch_sampling, n_instances=BATCH_SIZE)\n",
    "\n",
    "# Specify our active learning model.\n",
    "learner = ActiveLearner(\n",
    "  estimator=RandomForestClassifier(),\n",
    "\n",
    "  X_training=X_training,\n",
    "  y_training=y_training,\n",
    "\n",
    "  query_strategy=preset_batch\n",
    ")"
   ]
  },
  {
   "cell_type": "code",
   "execution_count": null,
   "id": "a9659d29",
   "metadata": {},
   "outputs": [],
   "source": [
    "unqueried_score = learner.score(X_testing, Y_test)\n",
    "N_RAW_SAMPLES = 20\n",
    "N_QUERIES = N_RAW_SAMPLES // BATCH_SIZE\n",
    "\n",
    "performance_history = [unqueried_score]\n",
    "\n",
    "for index in range(N_QUERIES):\n",
    "    query_index, query_instance = learner.query(X_pool_tifd)\n",
    "\n",
    "    # Teach our ActiveLearner model the record it has requested.\n",
    "    X, y = X_pool_tifd[query_index], y_pool[query_index]\n",
    "    learner.teach(X=X, y=y)\n",
    "\n",
    "    # Remove the queried instance from the unlabeled pool.\n",
    "    X_pool_tifd = np.delete(X_pool_tifd, query_index, axis=0)\n",
    "    y_pool = np.delete(y_pool, query_index)\n",
    "\n",
    "    # Calculate and report our model's accuracy.\n",
    "    model_accuracy = learner.score(X_testing, Y_test)\n",
    "    print('Accuracy after query {n}: {acc:0.4f}'.format(n=index + 1, acc=model_accuracy))\n",
    "\n",
    "    # Save our model's performance for plotting.\n",
    "    performance_history.append(model_accuracy)"
   ]
  },
  {
   "cell_type": "code",
   "execution_count": null,
   "id": "ea5f68c9",
   "metadata": {},
   "outputs": [],
   "source": []
  },
  {
   "cell_type": "code",
   "execution_count": null,
   "id": "4f38dd8c",
   "metadata": {},
   "outputs": [],
   "source": []
  }
 ],
 "metadata": {
  "kernelspec": {
   "display_name": "data_analytics_course0",
   "language": "python",
   "name": "data_analytics_course0"
  },
  "language_info": {
   "codemirror_mode": {
    "name": "ipython",
    "version": 3
   },
   "file_extension": ".py",
   "mimetype": "text/x-python",
   "name": "python",
   "nbconvert_exporter": "python",
   "pygments_lexer": "ipython3",
   "version": "3.9.12"
  }
 },
 "nbformat": 4,
 "nbformat_minor": 5
}
